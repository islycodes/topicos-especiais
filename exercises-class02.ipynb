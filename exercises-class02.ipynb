{
 "cells": [
  {
   "cell_type": "markdown",
   "metadata": {},
   "source": [
    "### Atividades da Aula 02\n",
    "### Disciplina: Tópicos Especiais em Informática\n"
   ]
  },
  {
   "cell_type": "code",
   "execution_count": 9,
   "metadata": {},
   "outputs": [
    {
     "name": "stdout",
     "output_type": "stream",
     "text": [
      "O produto batata tem desconto de 5% e custa R$ 66.5\n"
     ]
    }
   ],
   "source": [
    "# Exercício 01\n",
    "\n",
    "def calcula_desconto(nomeProduto, precoOriginal):\n",
    "  if precoOriginal < 0:\n",
    "    print(\"O valor deve ser maior que zero.\")\n",
    "    return\n",
    "  \n",
    "  if precoOriginal >= 50 and precoOriginal < 200:\n",
    "    print(\"O produto\", nomeProduto, \"tem desconto de 5% e custa R$\", precoOriginal - (precoOriginal * 0.05))\n",
    "  \n",
    "  elif precoOriginal >= 200 and precoOriginal < 500:\n",
    "    print(\"O produto\", nomeProduto, \"tem desconto de 6% e custa R$\", precoOriginal - (precoOriginal * 0.06))\n",
    "    \n",
    "  elif precoOriginal >= 500 and precoOriginal < 1000:\n",
    "    print(\"O produto\", nomeProduto, \"tem desconto de 7% e custa R$\", precoOriginal - (precoOriginal * 0.07))\n",
    "    \n",
    "  elif precoOriginal >= 1000:\n",
    "    print(\"O produto\", nomeProduto, \"tem desconto de 8% e custa R$\", precoOriginal - (precoOriginal * 0.08))\n",
    "    \n",
    "  else :\n",
    "    print(\"O produto\", nomeProduto, \"não tem desconto e custa R$\", precoOriginal)\n",
    "  \n",
    "nomeProduto = input(\"Digite o nome do produto: \")\n",
    "precoOriginal = float(input(\"Digite o valor do produto: \"))\n",
    "  \n",
    "calcula_desconto(nomeProduto, precoOriginal)"
   ]
  },
  {
   "cell_type": "code",
   "execution_count": 23,
   "metadata": {},
   "outputs": [
    {
     "name": "stdout",
     "output_type": "stream",
     "text": [
      "Resistências fornecidas:  (400, 300, 200, 700)\n",
      "Resistência total:  1600\n",
      "Resistência maior:  700\n",
      "Resistência menor:  200\n"
     ]
    }
   ],
   "source": [
    "# Exercício 02\n",
    "\n",
    "def resistenciasSerie(*resistencias):\n",
    "    resistenciaTotal = 0\n",
    "    maiorResistencia = 0\n",
    "    menorResistencia = 9999\n",
    "  \n",
    "    for r in resistencias:\n",
    "        resistenciaTotal += r\n",
    "        if r > maiorResistencia:\n",
    "            maiorResistencia = r\n",
    "        if r < menorResistencia:\n",
    "            menorResistencia = r\n",
    "      \n",
    "    print(\"Resistências fornecidas: \", resistencias)\n",
    "    print(\"Resistência total: \", resistenciaTotal)\n",
    "    print(\"Resistência maior: \", maiorResistencia)\n",
    "    print(\"Resistência menor: \", menorResistencia)\n",
    "    \n",
    "    \n",
    "resistenciasSerie(400, 300, 200, 700)"
   ]
  },
  {
   "cell_type": "code",
   "execution_count": 25,
   "metadata": {},
   "outputs": [
    {
     "name": "stdout",
     "output_type": "stream",
     "text": [
      "5 x 1 = 5\n",
      "5 x 2 = 10\n",
      "5 x 3 = 15\n",
      "5 x 4 = 20\n",
      "5 x 5 = 25\n",
      "5 x 6 = 30\n",
      "5 x 7 = 35\n",
      "5 x 8 = 40\n",
      "5 x 9 = 45\n",
      "5 x 10 = 50\n"
     ]
    }
   ],
   "source": [
    "# Exercício 03\n",
    "\n",
    "def tabuada(numero):\n",
    "    for i in range(1, 11):\n",
    "        print(numero, \"x\", i, \"=\", numero * i)\n",
    "\n",
    "tabuada(5)"
   ]
  },
  {
   "cell_type": "code",
   "execution_count": 26,
   "metadata": {},
   "outputs": [
    {
     "name": "stdout",
     "output_type": "stream",
     "text": [
      "O ano 1905 pertence ao século 20\n"
     ]
    }
   ],
   "source": [
    "# Exercício 04\n",
    "\n",
    "year = int(input(\"Digite o ano: \"))\n",
    "century = year // 100 if year % 100 == 0 else year // 100 + 1\n",
    "print(\"O ano\", year, \"pertence ao século\", century)\n"
   ]
  }
 ],
 "metadata": {
  "kernelspec": {
   "display_name": "Python 3",
   "language": "python",
   "name": "python3"
  },
  "language_info": {
   "codemirror_mode": {
    "name": "ipython",
    "version": 3
   },
   "file_extension": ".py",
   "mimetype": "text/x-python",
   "name": "python",
   "nbconvert_exporter": "python",
   "pygments_lexer": "ipython3",
   "version": "3.11.5"
  },
  "orig_nbformat": 4
 },
 "nbformat": 4,
 "nbformat_minor": 2
}
