{
 "cells": [
  {
   "cell_type": "markdown",
   "metadata": {},
   "source": [
    "### Atividades da Aula 03\n",
    "### Disciplina: Tópicos Especiais em Informática"
   ]
  },
  {
   "cell_type": "code",
   "execution_count": 4,
   "metadata": {},
   "outputs": [
    {
     "name": "stdout",
     "output_type": "stream",
     "text": [
      "Quantidade de números pares:  5\n",
      "Os números ímpares são:  1\n",
      "A soma dos números é:  58\n",
      "O maior número é:  34\n",
      "O menor número é:  -64\n",
      "A quantidade de números positivos é:  4\n"
     ]
    }
   ],
   "source": [
    "# Exercício 1 - Tuplas\n",
    "\n",
    "num = (4, 8, 12, 34, -64, -1)\n",
    "quantPares = 0\n",
    "ímpares = []\n",
    "soma = 0\n",
    "quantPositivos = 0  \n",
    "\n",
    "for i in num:\n",
    "    if i % 2 == 0:\n",
    "        quantPares += 1\n",
    "    else:\n",
    "        ímpares.append(i)\n",
    "    if i > 0:\n",
    "        soma += i\n",
    "        quantPositivos += 1\n",
    "    if i > maior:\n",
    "        maior = i\n",
    "    if i < menor:\n",
    "        menor = i\n",
    "        \n",
    "print(\"Quantidade de números pares: \", quantPares)\n",
    "print(\"Os números ímpares são: \", len(ímpares))\n",
    "print(\"A soma dos números é: \", soma)\n",
    "print(\"O maior número é: \", max(num))\n",
    "print(\"O menor número é: \", min(num))\n",
    "print(\"A quantidade de números positivos é: \", quantPositivos)"
   ]
  },
  {
   "cell_type": "code",
   "execution_count": 1,
   "metadata": {},
   "outputs": [
    {
     "name": "stdout",
     "output_type": "stream",
     "text": [
      "[[63, 185, 184, 215, 107, 42, 144, 254, 163, 5], [219, 128, 67, 124, 180, 222, 145, 211, 33, 1], [36, 143, 138, 219, 124, 220, 250, 18, 95, 24], [91, 43, 206, 105, 227, 181, 238, 82, 143, 199], [252, 127, 169, 198, 170, 0, 181, 15, 78, 96], [122, 212, 207, 208, 175, 225, 43, 217, 93, 24], [89, 168, 136, 82, 251, 186, 225, 173, 246, 208], [232, 108, 153, 15, 103, 89, 82, 25, 23, 113], [191, 128, 115, 118, 228, 49, 26, 155, 128, 24], [202, 170, 215, 117, 214, 12, 37, 91, 218, 255]]\n"
     ]
    }
   ],
   "source": [
    "# Exercício 2 - Tuplas\n",
    "\n",
    "import random\n",
    "\n",
    "image = [[random.randint(0,255) for i in range(10)] for j in range(10)]\n",
    "\n",
    "print(image)"
   ]
  },
  {
   "cell_type": "code",
   "execution_count": null,
   "metadata": {},
   "outputs": [],
   "source": [
    "# Exercício 3 - Tuplas\n",
    "\n",
    "import collections\n",
    "import os\n",
    "os.system('cls')\n",
    "\n",
    "Aluno = collections.namedtuple('Aluno', 'nome nota1 nota2')\n",
    "\n",
    "alunos = []\n",
    "\n",
    "for i in range(6):\n",
    "  nome = input(\"Digite o nome do aluno: \")\n",
    "  nota1 = input(\"Digite a primeira nota: \")\n",
    "  nota2 = input(\"Digite a segunda nota: \")\n",
    "  alunos.append(Aluno(nome, float(nota1), float(nota2)))\n",
    "\n",
    "media = 0\n",
    "quantAprovados = 0\n",
    "quantExame = 0\n",
    "quantReprovados = 0\n",
    "\n",
    "situacao = \"\"\n",
    "print(\"Relatório de Notas\")\n",
    "\n",
    "for i in range(6):\n",
    "  media = (alunos[i].nota1 + alunos[i].nota2)/2\n",
    "  if media >= 7:\n",
    "    quantAprovados += 1\n",
    "    situacao = \"Aprovado\"\n",
    "  elif media >= 3:\n",
    "    quantExame += 1\n",
    "    situacao = \"Exame\"\n",
    "  else:\n",
    "    quantReprovados += 1\n",
    "    situacao = \"Reprovado\"\n",
    "    \n",
    "  print(\"Nome: \",alunos[i].nome, \" || Nota P1: \", alunos[i].nota1, \" || Nota P2: \", alunos[i].nota2, \" || Média: \", media, \" || Situação: \", situacao)\n",
    "  \n",
    "print(\"\\n\")\n",
    "print(\"Relatório Final\")\n",
    "print(\"A quantidade de alunos aprovados é: \", quantAprovados)\n",
    "print(\"A quantidade de alunos de exame é: \", quantExame)\n",
    "print(\"A quantidade de alunos reprovados é: \", quantReprovados)\n"
   ]
  },
  {
   "cell_type": "code",
   "execution_count": null,
   "metadata": {},
   "outputs": [],
   "source": [
    "# Exercício 4 - Tuplas\n",
    "\n",
    "import collections\n",
    "import os\n",
    "os.system('cls')\n",
    "\n",
    "Produto = collections.namedtuple('Produto', 'nome preco')\n",
    "\n",
    "produtos = []\n",
    "\n",
    "for i in range(5):\n",
    "  nome = input(\"Digite o nome do produto: \")\n",
    "  preco = input(\"Digite o preço do produto: \")\n",
    "  produtos.append(Produto(nome, float(preco)))\n",
    "\n",
    "quantMenor50 = 0\n",
    "nomeDosProdEntre50e100 = \"\"\n",
    "quantMaior100 = 0\n",
    "mediaMaior100 = 0\n",
    "  \n",
    "for i in range(5):\n",
    "  if produtos[i].preco < 50:\n",
    "    quantMenor50 += 1\n",
    "    \n",
    "  if produtos[i].preco >= 50 and produtos[i].preco <= 100:\n",
    "    nomeDosProdEntre50e100 += \" \"\n",
    "    nomeDosProdEntre50e100 += produtos[i].nome\n",
    "    \n",
    "  if produtos[i].preco > 100:\n",
    "    quantMaior100 += 1\n",
    "    mediaMaior100 += produtos[i].preco\n",
    "\n",
    "print(\"Relatório: \")\n",
    "print(\"A quantidade de produtos com preço menor que 50 é: \", quantMenor50)\n",
    "print(\"Os produtos com preço entre 50 e 100 são: \", nomeDosProdEntre50e100)\n",
    "print(\"A média dos produtos com preço maior que 100 é: \", mediaMaior100/quantMaior100)  \n"
   ]
  },
  {
   "cell_type": "code",
   "execution_count": 22,
   "metadata": {},
   "outputs": [
    {
     "name": "stdout",
     "output_type": "stream",
     "text": [
      "True\n"
     ]
    }
   ],
   "source": [
    "# Exercício 1 - Listas\n",
    "\n",
    "def check_palindrome(word):\n",
    "    return word == word[::-1]\n",
    "  \n",
    "print(check_palindrome(\"aabaa\"))"
   ]
  },
  {
   "cell_type": "code",
   "execution_count": 33,
   "metadata": {},
   "outputs": [
    {
     "name": "stdout",
     "output_type": "stream",
     "text": [
      "O maior número do vetor é:  30\n",
      "O novo vetor após os calculos é:  [0.07, 0.13, 0.2, 0.27, 0.33, 0.4, 0.47, 0.53, 0.6, 0.67, 0.73, 0.8, 0.87, 0.93, 1.0]\n"
     ]
    }
   ],
   "source": [
    "# Exercício 2 - Listas\n",
    "vetor = [2, 4, 6, 8, 10, 12, 14, 16, 18, 20, 22, 24, 26, 28, 30]\n",
    "\n",
    "maior = max(vetor)\n",
    "novoVetor = []\n",
    "for valor in vetor:\n",
    "  novoVetor.append(round(valor/maior, 2))\n",
    "  \n",
    "print(\"O maior número do vetor é: \", maior)\n",
    "print(\"O novo vetor após os calculos é: \", novoVetor)"
   ]
  },
  {
   "cell_type": "code",
   "execution_count": 38,
   "metadata": {},
   "outputs": [
    {
     "name": "stdout",
     "output_type": "stream",
     "text": [
      "21\n"
     ]
    }
   ],
   "source": [
    "# Exercício 3 - Listas\n",
    "inputArray = [3,6,-2,-5,7,3]\n",
    "largestProd = 0\n",
    "\n",
    "for i in range(len(inputArray) -1):\n",
    "  product = inputArray[i] * inputArray[i+1]\n",
    "  if product > largestProd:\n",
    "    largestProd = product\n",
    "print(largestProd)"
   ]
  },
  {
   "cell_type": "code",
   "execution_count": null,
   "metadata": {},
   "outputs": [],
   "source": [
    "# Atividade Prática Aula 03\n",
    "\n",
    "import random\n",
    "import string\n",
    "import collections\n",
    "\n",
    "usernamesGerados = []\n",
    "senhasGeradas = []\n",
    "usernameESenha = collections.namedtuple('usernameESenha', 'nomeCompleto username senha')\n",
    "bancoDeDados = []\n",
    "def validaEInsereUsername(username, digitoInicial):\n",
    "  try:\n",
    "    if digitoInicial == 0:\n",
    "      novoUsername = username\n",
    "    else: \n",
    "      novoUsername = username + str(digitoInicial)\n",
    "    usernamesGerados.index(novoUsername)\n",
    "    return validaEInsereUsername(username, digitoInicial+1)\n",
    "  except ValueError: \n",
    "    usernamesGerados.append(novoUsername) \n",
    "    return novoUsername\n",
    "\n",
    "def userNameGenerator():\n",
    "  nomeCompleto = input(\"Digite apenas seu nome e sobrenome separados por espaço: \")\n",
    "  vetorComNomeESobrenome = nomeCompleto.split(\" \")\n",
    "\n",
    "  nome = vetorComNomeESobrenome[0]\n",
    "  sobrenome = vetorComNomeESobrenome[1]\n",
    "  \n",
    "  username = nome[0] + sobrenome\n",
    "  username = validaEInsereUsername(username,0)\n",
    "  \n",
    "  print(\"Nome de usuário: \" + username)\n",
    "  senha = passwordGenerator()\n",
    "\n",
    "  bancoDeDados.append(usernameESenha(nomeCompleto, username, senha))\n",
    "  continuar = input(\"deseja criar outro usuário? s/n\")\n",
    "  if continuar.lower() == \"s\":\n",
    "    userNameGenerator() \n",
    "    \n",
    "def passwordGenerator():\n",
    "  tamanhoDaSenha = 8\n",
    "  valores = string.ascii_letters + string.digits + string.punctuation\n",
    "  senha = ''.join([random.choice(valores) for i in range(tamanhoDaSenha)])\n",
    "  senhasGeradas.append(senha)\n",
    "  print(\"Senha: \" + senha)\n",
    "\n",
    "  return senha\n",
    "userNameGenerator()\n",
    "  \n",
    "print(\"\\nRelatório de usuários: \")\n",
    "for i in range(len(bancoDeDados)):\n",
    "  print(\"Nome completo: \" + bancoDeDados[i].nomeCompleto + \" | Nome de usuário: \" + bancoDeDados[i].username + \" | Senha: \" + bancoDeDados[i].senha)\n"
   ]
  }
 ],
 "metadata": {
  "kernelspec": {
   "display_name": "Python 3",
   "language": "python",
   "name": "python3"
  },
  "language_info": {
   "codemirror_mode": {
    "name": "ipython",
    "version": 3
   },
   "file_extension": ".py",
   "mimetype": "text/x-python",
   "name": "python",
   "nbconvert_exporter": "python",
   "pygments_lexer": "ipython3",
   "version": "3.11.5"
  },
  "orig_nbformat": 4
 },
 "nbformat": 4,
 "nbformat_minor": 2
}
