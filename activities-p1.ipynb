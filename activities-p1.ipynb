{
 "cells": [
  {
   "cell_type": "markdown",
   "metadata": {},
   "source": [
    "### Atividades preparatórias P1\n",
    "### Disciplina: Tópicos Especiais em Informática"
   ]
  },
  {
   "cell_type": "code",
   "execution_count": null,
   "metadata": {},
   "outputs": [],
   "source": [
    "# Exercício 1\n",
    "\n",
    "numeros = input(\"Digite uma sequência de números separados por vírgula: \")\n",
    "\n",
    "lista = numeros.split(\",\")\n",
    "tupla = tuple(lista)\n",
    "\n",
    "print(\"Lista: \", lista)\n",
    "print(\"Tupla: \",tupla)"
   ]
  },
  {
   "cell_type": "code",
   "execution_count": null,
   "metadata": {},
   "outputs": [],
   "source": [
    "# Exercício 2\n",
    "\n",
    "i = int(input(\"Digite o número de linhas: \"))\n",
    "j = int(input(\"Digite o número de colunas: \"))\n",
    "\n",
    "array = []\n",
    "for x in range(i):\n",
    "    linha = []\n",
    "    for y in range(j):\n",
    "        linha.append(x*y)\n",
    "    array.append(linha)\n",
    "    \n",
    "print(\"Array: \", array)"
   ]
  },
  {
   "cell_type": "code",
   "execution_count": null,
   "metadata": {},
   "outputs": [],
   "source": [
    "# Exercício 3\n",
    "\n",
    "palavras = input(\"Digite uma sequência de palavras separadas por vírgula: \")\n",
    "lista = palavras.split(\", \")\n",
    "if len(lista) == 1:\n",
    "  lista = palavras.split(\",\") \n",
    "lista.sort(key=str.lower)\n",
    "print(\"Lista ordenada: \", lista)"
   ]
  },
  {
   "cell_type": "code",
   "execution_count": null,
   "metadata": {},
   "outputs": [],
   "source": [
    "# Exercício 4\n",
    "\n",
    "sequencia = input(\"Digite uma sequência de caracteres: \")\n",
    "letras = 0\n",
    "digitos = 0\n",
    "\n",
    "for x in sequencia:\n",
    "  if x.isalpha():\n",
    "    letras += 1\n",
    "  elif x.isdigit():\n",
    "    digitos += 1\n",
    "    \n",
    "print(\"Letras: \", letras)\n",
    "print(\"Dígitos: \", digitos)"
   ]
  },
  {
   "cell_type": "code",
   "execution_count": null,
   "metadata": {},
   "outputs": [],
   "source": [
    "# Exercício 5\n",
    "\n",
    "sequencia = input(\"Digite uma sequência de letras: \")\n",
    "maiusculas = 0\n",
    "minusculas = 0\n",
    "\n",
    "for x in sequencia:\n",
    "  if x.isupper():\n",
    "    maiusculas += 1\n",
    "  elif x.islower():\n",
    "    minusculas += 1\n",
    "    \n",
    "print(\"Maiúsculas: \", maiusculas)\n",
    "print(\"Minúsculas: \", minusculas)"
   ]
  },
  {
   "cell_type": "code",
   "execution_count": null,
   "metadata": {},
   "outputs": [],
   "source": [
    "# Exercício 6\n",
    "\n",
    "import re\n",
    "\n",
    "senhas = input(\"Digite uma sequência de senhas separadas por vírgula: \")\n",
    "lista = senhas.split(\", \")\n",
    "if len(lista) == 1:\n",
    "  lista = senhas.split(\",\") \n",
    "  \n",
    "for x in lista:\n",
    "  if len(x) < 6 or len(x) > 12:\n",
    "    lista.remove(x)\n",
    "  elif not re.search(\"[a-z]\", x):\n",
    "    lista.remove(x)\n",
    "  elif not re.search(\"[0-9]\", x):\n",
    "    lista.remove(x)\n",
    "  elif not re.search(\"[A-Z]\", x):\n",
    "    lista.remove(x)\n",
    "  elif not re.search(\"[$#@]\", x):\n",
    "    lista.remove(x)\n",
    "    \n",
    "print(\"Senhas válidas: \", lista)\n",
    "\n"
   ]
  },
  {
   "cell_type": "code",
   "execution_count": null,
   "metadata": {},
   "outputs": [],
   "source": [
    "# Exercício 7\n",
    "\n",
    "import datetime\n",
    "\n",
    "data_atual = datetime.date.today()\n",
    "\n",
    "print(\"Data atual: \", data_atual)\n",
    "print(\"Ano atual: \", data_atual.year)\n",
    "print(\"Mês atual: \", data_atual.month)\n",
    "print(\"Dia atual: \", data_atual.day)\n",
    "print(\"Data atual formatada: \", data_atual.strftime(\"%d/%m/%Y\"))\n",
    "print(\"Data atual formatada: \", data_atual.strftime(\"%d de %B de %Y\"))\n"
   ]
  }
 ],
 "metadata": {
  "kernelspec": {
   "display_name": "Python 3",
   "language": "python",
   "name": "python3"
  },
  "language_info": {
   "codemirror_mode": {
    "name": "ipython",
    "version": 3
   },
   "file_extension": ".py",
   "mimetype": "text/x-python",
   "name": "python",
   "nbconvert_exporter": "python",
   "pygments_lexer": "ipython3",
   "version": "3.11.5"
  },
  "orig_nbformat": 4
 },
 "nbformat": 4,
 "nbformat_minor": 2
}
